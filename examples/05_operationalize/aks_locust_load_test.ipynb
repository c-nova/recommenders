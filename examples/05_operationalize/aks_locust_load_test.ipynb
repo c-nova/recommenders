{
 "cells": [
  {
   "cell_type": "markdown",
   "metadata": {},
   "source": [
    "Copyright (c) Microsoft Corporation. All rights reserved.\n",
    "\n",
    "Licensed under the MIT License."
   ]
  },
  {
   "cell_type": "markdown",
   "metadata": {},
   "source": [
    "## AKS での負荷テスト\r\n",
    "\r\n",
    "モデルを運用環境に展開したら、展開ターゲットが予想される負荷 (ユーザー数と予想される応答速度) を確実にサポートできるようにすることが重要です。これは、複数のユーザーに対するレコメンデーションを同時にサポートする必要がある運用システムの場合に特に重要です。同時ユーザー数が増加すると、レコメンデーション システムの負荷が大幅に増加する可能性があるため、不要なシステム障害やユーザーの応答時間の遅さを避けるために、運用システムの限界を理解する必要があります。\r\n",
    "\r\n",
    "この種のロード テストを実行するために、ユーザー要求をさまざまな速度でシミュレートし、1 秒あたりの要求数やサービスの平均応答時間を確立するツールを利用できます。このノートブックでは、Azure Kubernetes Service (AKS) でデプロイされたモデルの負荷テストを実行するプロセスについて説明します。\r\n",
    "\r\n",
    "このノートブックは、Azure Machine Learning ワークスペースからモデルをデプロイするために AKS Web サービスが使用されていることを前提としています。このアプローチの例は、[LightGBM 運用化ノートブック](lightgbm_criteo_o16n.ipynb)に用意されています。\r\n",
    "\r\n",
    "[Locust](https://docs.locust.io/en/stable/)を使用して負荷テストを実行します。このツールの詳細についてはリンク先のドキュメントを参照してください。"
   ]
  },
  {
   "cell_type": "code",
   "execution_count": 1,
   "metadata": {},
   "outputs": [
    {
     "name": "stdout",
     "output_type": "stream",
     "text": [
      "Azure ML SDK version: 1.0.18\n"
     ]
    }
   ],
   "source": [
    "import os\r\n",
    "import subprocess\r\n",
    "import sys\r\n",
    "from tempfile import TemporaryDirectory\r\n",
    "from urllib.parse import urlparse\r\n",
    "\r\n",
    "sys.path.append('../..')\r\n",
    "\r\n",
    "import requests\r\n",
    "\r\n",
    "from azureml.core import Workspace\r\n",
    "from azureml.core import VERSION as azureml_version\r\n",
    "from azureml.core.webservice import AksWebservice\r\n",
    "\r\n",
    "from reco_utils.dataset.criteo import get_spark_schema, load_pandas_df\r\n",
    "from reco_utils.azureml.azureml_utils import get_or_create_workspace\r\n",
    "\r\n",
    "# コア SDK バージョンを確認\r\n",
    "print(\"Azure ML SDK version: {}\".format(azureml_version))"
   ]
  },
  {
   "cell_type": "code",
   "execution_count": 2,
   "metadata": {},
   "outputs": [
    {
     "data": {
      "text/html": [
       "<style>.container { width:100% !important; }</style>"
      ],
      "text/plain": [
       "<IPython.core.display.HTML object>"
      ]
     },
     "metadata": {},
     "output_type": "display_data"
    }
   ],
   "source": [
    "# 後で locust からのすべての出力をキャプチャするために、セルの幅を大きくします\r\n",
    "from IPython.core.display import display, HTML\r\n",
    "display(HTML(\"<style>.container { width:100% !important; }</style>\"))"
   ]
  },
  {
   "cell_type": "markdown",
   "metadata": {},
   "source": [
    "### 生成されたファイルの一時ディレクトリを作成する"
   ]
  },
  {
   "cell_type": "code",
   "execution_count": 3,
   "metadata": {},
   "outputs": [],
   "source": [
    "TMP_DIR = TemporaryDirectory()"
   ]
  },
  {
   "cell_type": "markdown",
   "metadata": {},
   "source": [
    "### AKS Service情報の取得"
   ]
  },
  {
   "cell_type": "code",
   "execution_count": 4,
   "metadata": {},
   "outputs": [],
   "source": [
    "# 展開済みサービス名と一致している必要があります\r\n",
    "SERVICE_NAME = 'lightgbm-criteo'"
   ]
  },
  {
   "cell_type": "code",
   "execution_count": 5,
   "metadata": {},
   "outputs": [
    {
     "name": "stderr",
     "output_type": "stream",
     "text": [
      "Warning: Falling back to use azure cli login credentials.\n",
      "If you run your code in unattended mode, i.e., where you can't give a user input, then we recommend to use ServicePrincipalAuthentication or MsiAuthentication.\n",
      "Please refer to aka.ms/aml-notebook-auth for different authentication mechanisms in azureml-sdk.\n"
     ]
    },
    {
     "name": "stdout",
     "output_type": "stream",
     "text": [
      "Found the config file in: C:\\Users\\scgraham\\repos\\Recommenders\\notebooks\\05_operationalize\\aml_config\\config.json\n",
      "Wrote the config file config.json to: C:\\Users\\scgraham\\repos\\Recommenders\\notebooks\\05_operationalize\\aml_config\\config.json\n"
     ]
    }
   ],
   "source": [
    "ws = get_or_create_workspace()"
   ]
  },
  {
   "cell_type": "code",
   "execution_count": 6,
   "metadata": {},
   "outputs": [],
   "source": [
    "aks_service = AksWebservice(ws, name=SERVICE_NAME)"
   ]
  },
  {
   "cell_type": "code",
   "execution_count": 7,
   "metadata": {},
   "outputs": [],
   "source": [
    "# スコアリング URIの取得\r\n",
    "url = aks_service.scoring_uri\r\n",
    "parsed_url = urlparse(url)\r\n",
    "\r\n",
    "# aks_service のキーの 1 つを使用して認証をセットアップ\r\n",
    "headers = dict(Authorization='Bearer {}'.format(aks_service.get_keys()[0]))"
   ]
  },
  {
   "cell_type": "markdown",
   "metadata": {},
   "source": [
    "### テスト用のサンプル データを取得する"
   ]
  },
  {
   "cell_type": "code",
   "execution_count": 8,
   "metadata": {},
   "outputs": [
    {
     "name": "stderr",
     "output_type": "stream",
     "text": [
      "8.79MB [00:04, 1.93MB/s]                                                                                                                                                                                                                                                   \n"
     ]
    }
   ],
   "source": [
    "# いくつのサンプル データを取得\r\n",
    "df = load_pandas_df(size='sample')"
   ]
  },
  {
   "cell_type": "code",
   "execution_count": 9,
   "metadata": {},
   "outputs": [
    {
     "name": "stdout",
     "output_type": "stream",
     "text": [
      "{\"label\":0,\"int00\":1.0,\"int01\":1,\"int02\":5.0,\"int03\":0.0,\"int04\":1382.0,\"int05\":4.0,\"int06\":15.0,\"int07\":2.0,\"int08\":181.0,\"int09\":1.0,\"int10\":2.0,\"int11\":null,\"int12\":2.0,\"cat00\":\"68fd1e64\",\"cat01\":\"80e26c9b\",\"cat02\":\"fb936136\",\"cat03\":\"7b4723c4\",\"cat04\":\"25c83c98\",\"cat05\":\"7e0ccccf\",\"cat06\":\"de7995b8\",\"cat07\":\"1f89b562\",\"cat08\":\"a73ee510\",\"cat09\":\"a8cd5504\",\"cat10\":\"b2cb9c98\",\"cat11\":\"37c9c164\",\"cat12\":\"2824a5f6\",\"cat13\":\"1adce6ef\",\"cat14\":\"8ba8b39a\",\"cat15\":\"891b62e7\",\"cat16\":\"e5ba7672\",\"cat17\":\"f54016b9\",\"cat18\":\"21ddcdc9\",\"cat19\":\"b1252a9d\",\"cat20\":\"07b5194c\",\"cat21\":null,\"cat22\":\"3a171ecb\",\"cat23\":\"c5c50484\",\"cat24\":\"e8b83407\",\"cat25\":\"9727dd16\"}\n"
     ]
    }
   ],
   "source": [
    "data = df.iloc[0, :].to_json()\n",
    "print(data)"
   ]
  },
  {
   "cell_type": "code",
   "execution_count": 10,
   "metadata": {},
   "outputs": [
    {
     "data": {
      "text/plain": [
       "'{\"result\": 0.35952275816753043}'"
      ]
     },
     "execution_count": 10,
     "metadata": {},
     "output_type": "execute_result"
    }
   ],
   "source": [
    "# aks サービスが実行されていること、期待される結果が提供されることを確認\r\n",
    "aks_service.run(data)"
   ]
  },
  {
   "cell_type": "code",
   "execution_count": 11,
   "metadata": {},
   "outputs": [
    {
     "name": "stdout",
     "output_type": "stream",
     "text": [
      "{\"result\": 0.35952275816753043}\n"
     ]
    }
   ],
   "source": [
    "# サービスへの HTTP 要求が機能することを確認\r\n",
    "response = requests.post(url=url, json=data, headers=headers)\r\n",
    "print(response.json())"
   ]
  },
  {
   "cell_type": "markdown",
   "metadata": {},
   "source": [
    "### LocustFile のセットアップ\r\n",
    "\r\n",
    "Locust は、ユーザーの動作を制御するローカスト ファイル (デフォルトで locustfile.py) を使用します。\r\n",
    "\r\n",
    "この例では、ユーザーが起動するたびに実行するタスクをカプセル化する UserBehavior クラスを作成します。ここではサービスがサンプルデータで要求を処理できることを保証することにのみ興味があるので、使用される唯一のタスクは、上記の手動で行われたような単純なポストリクエストであるスコアリングタスクです。\r\n",
    "\r\n",
    "次のクラスは、ユーザーのインスタンス化方法を定義します。この場合、ホストサーバーとの http セッションを開始して定義されたタスクを実行するユーザーを作成します。タスクは、少しの時間待ちの後に繰り返されます。この待機時間は、最小待機時間と最大待機時間 (ミリ秒) の間に均一なランダム サンプルを作成することによって決定されます。"
   ]
  },
  {
   "cell_type": "code",
   "execution_count": 12,
   "metadata": {},
   "outputs": [],
   "source": [
    "locustfile = \"\"\"\n",
    "from locust import HttpLocust, TaskSet, task\n",
    "\n",
    "\n",
    "class UserBehavior(TaskSet):\n",
    "    @task\n",
    "    def score(self):\n",
    "        self.client.post(\"{score_url}\", json='{data}', headers={headers})\n",
    "\n",
    "\n",
    "class WebsiteUser(HttpLocust):\n",
    "    task_set = UserBehavior\n",
    "    # min and max time to wait before repeating task\n",
    "    min_wait = 1000\n",
    "    max_wait = 2000\n",
    "\"\"\".format(data=data, headers=headers, score_url=parsed_url.path)\n",
    "\n",
    "locustfile_path = os.path.join(TMP_DIR.name, 'locustfile.py')\n",
    "with open(locustfile_path, 'w') as f:\n",
    "    f.write(locustfile)"
   ]
  },
  {
   "cell_type": "markdown",
   "metadata": {},
   "source": [
    "次の手順では、locust 負荷テスト ツールを開始します。Web インターフェイスで実行することも、コマンドラインから直接実行することもできます。今回の場合はコマンドラインから実行し、同時ユーザー数、ユーザーの生成速度、テストの実行期間を指定します。これらのオプションはすべて、Web インターフェイス GUI を介して制御できるだけでなく、障害に関するより多くの情報を提供することもできるので、より高度な使用方法についてはドキュメントを読むことをお勧めします。ここでは、テストを実行し、要約結果をキャプチャします。"
   ]
  },
  {
   "cell_type": "code",
   "execution_count": 13,
   "metadata": {},
   "outputs": [
    {
     "name": "stdout",
     "output_type": "stream",
     "text": [
      "[2019-05-28 12:36:31,630] 9821192-1116/INFO/locust.main: Run time limit set to 60 seconds\n",
      "[2019-05-28 12:36:31,631] 9821192-1116/INFO/locust.main: Starting Locust 0.11.0\n",
      "[2019-05-28 12:36:31,631] 9821192-1116/INFO/locust.runners: Hatching and swarming 200 clients at the rate 10 clients/s...\n",
      "[2019-05-28 12:36:51,864] 9821192-1116/INFO/locust.runners: All locusts hatched: WebsiteUser: 200\n",
      "[2019-05-28 12:37:30,701] 9821192-1116/INFO/locust.main: Time limit reached. Stopping Locust.\n",
      "[2019-05-28 12:37:30,707] 9821192-1116/INFO/locust.main: Shutting down (exit code 0), bye.\n",
      "[2019-05-28 12:37:30,707] 9821192-1116/INFO/locust.main: Cleaning up runner...\n",
      "[2019-05-28 12:37:30,738] 9821192-1116/INFO/locust.main: Running teardowns...\n",
      " Name                                                          # reqs      # fails     Avg     Min     Max  |  Median   req/s\n",
      "--------------------------------------------------------------------------------------------------------------------------------------------\n",
      " POST /api/v1/service/lightgbm-criteo/score                      5298     0(0.00%)     364      34     927  |     390  104.30\n",
      "--------------------------------------------------------------------------------------------------------------------------------------------\n",
      " Total                                                           5298     0(0.00%)                                     104.30\n",
      "\n",
      "Percentage of the requests completed within given times\n",
      " Name                                                           # reqs    50%    66%    75%    80%    90%    95%    98%    99%   100%\n",
      "--------------------------------------------------------------------------------------------------------------------------------------------\n",
      " POST /api/v1/service/lightgbm-criteo/score                       5298    390    420    440    460    500    530    590    640    930\n",
      "--------------------------------------------------------------------------------------------------------------------------------------------\n",
      " Total                                                            5298    390    420    440    460    500    530    590    640    930\n",
      "\n",
      "\n"
     ]
    }
   ],
   "source": [
    "cmd = \"locust -H {host} -f {path} --no-web -c {users} -r {rate} -t {duration} --only-summary\".format(\r\n",
    "    host='{url.scheme}://{url.netloc}'.format(url=parsed_url),\r\n",
    "    path=locustfile_path,\r\n",
    "    users=200,  # 同時接続ユーザー数\r\n",
    "    rate=10,  # ハッチ率 (ユーザー / 秒)\r\n",
    "    duration='1m',  # テスト期間\r\n",
    ")\r\n",
    "process = subprocess.run(cmd, shell=True, stderr=subprocess.PIPE)\r\n",
    "print(process.stderr.decode('utf-8'))"
   ]
  },
  {
   "cell_type": "markdown",
   "metadata": {},
   "source": [
    "### 負荷テストの結果\r\n",
    "\r\n",
    "上記では、応答時間に関する要求、失敗、統計の数、およびサーバーが処理している 1 秒あたりの要求数を確認できます。\r\n",
    "\r\n",
    "2 行目は、負荷が応答速度にどのような影響を与えているか、およびパフォーマンスに影響を与える外れ値があるかどうかを把握するのに役立つ応答時間の分布を示しています。"
   ]
  },
  {
   "cell_type": "markdown",
   "metadata": {},
   "source": [
    "### 一時ディレクトリのクリーンアップ"
   ]
  },
  {
   "cell_type": "code",
   "execution_count": 14,
   "metadata": {},
   "outputs": [],
   "source": [
    "TMP_DIR.cleanup()"
   ]
  },
  {
   "cell_type": "code",
   "execution_count": null,
   "metadata": {},
   "outputs": [],
   "source": []
  }
 ],
 "metadata": {
  "authors": [
   {
    "name": "pasha"
   }
  ],
  "kernelspec": {
   "display_name": "Python 3.8.5 64-bit ('vscpy38': conda)",
   "name": "python385jvsc74a57bd0be443e4bb5ca2a0039df422708907d2b33984b7dfb9ef6e469c27513aa2f1c12"
  },
  "language_info": {
   "name": "python",
   "version": ""
  },
  "metadata": {
   "interpreter": {
    "hash": "be443e4bb5ca2a0039df422708907d2b33984b7dfb9ef6e469c27513aa2f1c12"
   }
  },
  "name": "deploy-to-aci-04",
  "notebookId": 904892461294324
 },
 "nbformat": 4,
 "nbformat_minor": 1
}