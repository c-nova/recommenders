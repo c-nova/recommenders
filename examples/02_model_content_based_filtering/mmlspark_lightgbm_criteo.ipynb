{
 "cells": [
  {
   "cell_type": "markdown",
   "metadata": {},
   "source": [
    "<i>Copyright (c) Microsoft Corporation. All rights reserved.</i>\n",
    "\n",
    "<i>Licensed under the MIT License.</i>"
   ]
  },
  {
   "cell_type": "markdown",
   "metadata": {},
   "source": [
    "# Spark の LightGBM を使用したコンテンツベースのパーソナライゼーション\r\n",
    "\r\n",
    "このノートブックでは、コンテンツベースのパーソナライゼーション シナリオで [MMLSpark](https://github.com/Azure/mmlspark) を使用して Spark で [LightGBM](https://github.com/Microsoft/Lightgbm) モデルをトレーニングする方法の簡単な例を示します。\r\n",
    "\r\n",
    "クリックスルー率(CTR)の最適化に使用できるウェブサイト広告のよく知られたデータセットである[CRITEO データセット](https://www.kaggle.com/c/criteo-display-ad-challenge)を使用しています。データセットは、一連の数値およびカテゴリのフィーチャーと、新たに追加されたクリックされたかどうかを示すバイナリ ラベルで構成されています。\r\n",
    "\r\n",
    "モデルは[LightGBM](https://github.com/Microsoft/Lightgbm)に基づいており、ツリーベースの学習アルゴリズムを使用するグラデーションブーストフレームワークです。最後に、[MMLSpark](https://github.com/Azure/mmlspark) ライブラリを使用することで、LightGBM を Spark 環境で呼び出し、分散して計算できます。\r\n",
    "\r\n",
    "このシナリオは**暗黙的なフィードバック**の良い例であり、バイナリラベルはユーザーとアイテムの間の相互作用を示します。これは、ユーザーがコンテンツを明示的に評価する明示的なフィードバック (1 から 5 など) とは対照的です。\r\n"
   ]
  },
  {
   "cell_type": "markdown",
   "metadata": {},
   "source": [
    "## グローバル設定とインポート"
   ]
  },
  {
   "cell_type": "markdown",
   "metadata": {},
   "source": [
    "このノートブックは、DSVM または Azure Databricks の Spark 環境で実行できます。インストールプロセスの詳細については、[セットアップ手順](../../SETUP.md)を参照してください。\r\n",
    "\r\n",
    "**Azure Databricksでの注意:**\r\n",
    "* Azure Databricks で正しい依存関係の設定を簡略化するために、Python スクリプトが用意されています。詳細については、```python scripts/databricks_install.py -h``` を実行してください。\r\n",
    "* MMLSpark は、自動スケールが有効になっているクラスターで実行しないでください。このノートブックを実行する前に、Azure Databricks クラスター構成でフラグを無効にします。"
   ]
  },
  {
   "cell_type": "code",
   "execution_count": 2,
   "metadata": {},
   "outputs": [
    {
     "name": "stdout",
     "output_type": "stream",
     "text": [
      "MMLSpark version: com.microsoft.ml.spark:mmlspark_2.11:0.18.1\n",
      "System version: 3.6.10 |Anaconda, Inc.| (default, May  8 2020, 02:54:21) \n",
      "[GCC 7.3.0]\n",
      "PySpark version: 2.4.3\n"
     ]
    }
   ],
   "source": [
    "import os\r\n",
    "import sys\r\n",
    "\r\n",
    "sys.path.append(\"../../\")\r\n",
    "\r\n",
    "import pyspark\r\n",
    "from pyspark.ml import PipelineModel\r\n",
    "from pyspark.ml.feature import FeatureHasher\r\n",
    "import papermill as pm\r\n",
    "import scrapbook as sb\r\n",
    "\r\n",
    "from reco_utils.common.spark_utils import start_or_get_spark\r\n",
    "from reco_utils.common.notebook_utils import is_databricks\r\n",
    "from reco_utils.dataset.criteo import load_spark_df\r\n",
    "from reco_utils.dataset.spark_splitters import spark_random_split\r\n",
    "\r\n",
    "# MML Spark のセットアップ\r\n",
    "if not is_databricks():\r\n",
    "    # databricks_install スクリプトから MML Spark の maven コーディネートを取得する\r\n",
    "    from tools.databricks_install import MMLSPARK_INFO\r\n",
    "    packages = [MMLSPARK_INFO[\"maven\"][\"coordinates\"]]\r\n",
    "    repo = MMLSPARK_INFO[\"maven\"].get(\"repo\")\r\n",
    "    spark = start_or_get_spark(packages=packages, repository=repo)\r\n",
    "    dbutils = None\r\n",
    "    print(\"MMLSpark version: {}\".format(MMLSPARK_INFO['maven']['coordinates']))\r\n",
    "\r\n",
    "from mmlspark.train import ComputeModelStatistics\r\n",
    "from mmlspark.lightgbm import LightGBMClassifier\r\n",
    "\r\n",
    "print(\"System version: {}\".format(sys.version))\r\n",
    "print(\"PySpark version: {}\".format(pyspark.version.__version__))"
   ]
  },
  {
   "cell_type": "code",
   "execution_count": 3,
   "metadata": {
    "tags": [
     "parameters"
    ]
   },
   "outputs": [],
   "source": [
    "# Criteo データのサイズ。\"sample\" または \"full\" で指定\r\n",
    "DATA_SIZE = \"sample\"\r\n",
    "\r\n",
    "# LightGBM パラメータ\r\n",
    "# パラメータの詳細: https://lightgbm.readthedocs.io/en/latest/Parameters-Tuning.html\r\n",
    "NUM_LEAVES = 32\r\n",
    "NUM_ITERATIONS = 50\r\n",
    "LEARNING_RATE = 0.1\r\n",
    "FEATURE_FRACTION = 0.8\r\n",
    "EARLY_STOPPING_ROUND = 10\r\n",
    "\r\n",
    "# モデル名\r\n",
    "MODEL_NAME = 'lightgbm_criteo.mml'"
   ]
  },
  {
   "cell_type": "markdown",
   "metadata": {},
   "source": [
    "## データ準備\r\n",
    "\r\n",
    "[Criteo Display Advertising Challenge](https://www.kaggle.com/c/criteo-display-ad-challenge) (Criteo DAC) データセットは、CTR 予測モデルを開発するための業界のベンチマーク データセットとしてよく知られており、研究論文で頻繁に使用されています。元のデータセットには 45 百万行を超える行が含まれていますが、100,000 行を持つダウンサンプリングされたデータセットもあります (これは `DATA_SIZE = \"sample\"` を設定することで使用できます)。各行は Criteo が提供する表示広告に対応し、最初の列は、この広告がクリックされたかどうかを示します。<br><br>\r\n",
    "データセットには 1 つのラベル列と 39 個のフィーチャ列があり、13 列が整数値 (int00-int12) で、26 列がカテゴリ フィーチャ (cat00-cat25) です。<br><br>\r\n",
    "列が表すものは提供されませんが、この場合、整数値とカテゴリ値は、ユーザーおよび/または項目の内容を表す特徴と見なすことができます。ラベルはバイナリであり、ユーザーのアイテムとの対話を示す暗黙的なフィードバックの例です。このデータセットを使用すると、使用可能なユーザーおよびアイテムコンテンツ機能に基づいて、ユーザーがアイテムを操作する確率を予測するモデルを構築する方法を示すことができます。\r\n"
   ]
  },
  {
   "cell_type": "code",
   "execution_count": 4,
   "metadata": {},
   "outputs": [
    {
     "name": "stderr",
     "output_type": "stream",
     "text": [
      "100%|██████████| 8.58k/8.58k [00:01<00:00, 5.15kKB/s]\n"
     ]
    },
    {
     "data": {
      "text/html": [
       "<div>\n",
       "<style scoped>\n",
       "    .dataframe tbody tr th:only-of-type {\n",
       "        vertical-align: middle;\n",
       "    }\n",
       "\n",
       "    .dataframe tbody tr th {\n",
       "        vertical-align: top;\n",
       "    }\n",
       "\n",
       "    .dataframe thead th {\n",
       "        text-align: right;\n",
       "    }\n",
       "</style>\n",
       "<table border=\"1\" class=\"dataframe\">\n",
       "  <thead>\n",
       "    <tr style=\"text-align: right;\">\n",
       "      <th></th>\n",
       "      <th>label</th>\n",
       "      <th>int00</th>\n",
       "      <th>int01</th>\n",
       "      <th>int02</th>\n",
       "      <th>int03</th>\n",
       "      <th>int04</th>\n",
       "      <th>int05</th>\n",
       "      <th>int06</th>\n",
       "      <th>int07</th>\n",
       "      <th>int08</th>\n",
       "      <th>...</th>\n",
       "      <th>cat16</th>\n",
       "      <th>cat17</th>\n",
       "      <th>cat18</th>\n",
       "      <th>cat19</th>\n",
       "      <th>cat20</th>\n",
       "      <th>cat21</th>\n",
       "      <th>cat22</th>\n",
       "      <th>cat23</th>\n",
       "      <th>cat24</th>\n",
       "      <th>cat25</th>\n",
       "    </tr>\n",
       "  </thead>\n",
       "  <tbody>\n",
       "    <tr>\n",
       "      <th>0</th>\n",
       "      <td>0</td>\n",
       "      <td>1</td>\n",
       "      <td>1</td>\n",
       "      <td>5</td>\n",
       "      <td>0</td>\n",
       "      <td>1382</td>\n",
       "      <td>4</td>\n",
       "      <td>15</td>\n",
       "      <td>2</td>\n",
       "      <td>181</td>\n",
       "      <td>...</td>\n",
       "      <td>e5ba7672</td>\n",
       "      <td>f54016b9</td>\n",
       "      <td>21ddcdc9</td>\n",
       "      <td>b1252a9d</td>\n",
       "      <td>07b5194c</td>\n",
       "      <td>None</td>\n",
       "      <td>3a171ecb</td>\n",
       "      <td>c5c50484</td>\n",
       "      <td>e8b83407</td>\n",
       "      <td>9727dd16</td>\n",
       "    </tr>\n",
       "    <tr>\n",
       "      <th>1</th>\n",
       "      <td>0</td>\n",
       "      <td>2</td>\n",
       "      <td>0</td>\n",
       "      <td>44</td>\n",
       "      <td>1</td>\n",
       "      <td>102</td>\n",
       "      <td>8</td>\n",
       "      <td>2</td>\n",
       "      <td>2</td>\n",
       "      <td>4</td>\n",
       "      <td>...</td>\n",
       "      <td>07c540c4</td>\n",
       "      <td>b04e4670</td>\n",
       "      <td>21ddcdc9</td>\n",
       "      <td>5840adea</td>\n",
       "      <td>60f6221e</td>\n",
       "      <td>None</td>\n",
       "      <td>3a171ecb</td>\n",
       "      <td>43f13e8b</td>\n",
       "      <td>e8b83407</td>\n",
       "      <td>731c3655</td>\n",
       "    </tr>\n",
       "  </tbody>\n",
       "</table>\n",
       "<p>2 rows × 40 columns</p>\n",
       "</div>"
      ],
      "text/plain": [
       "   label  int00  int01  int02  int03  int04  int05  int06  int07  int08  ...  \\\n",
       "0      0      1      1      5      0   1382      4     15      2    181  ...   \n",
       "1      0      2      0     44      1    102      8      2      2      4  ...   \n",
       "\n",
       "      cat16     cat17     cat18     cat19     cat20 cat21     cat22     cat23  \\\n",
       "0  e5ba7672  f54016b9  21ddcdc9  b1252a9d  07b5194c  None  3a171ecb  c5c50484   \n",
       "1  07c540c4  b04e4670  21ddcdc9  5840adea  60f6221e  None  3a171ecb  43f13e8b   \n",
       "\n",
       "      cat24     cat25  \n",
       "0  e8b83407  9727dd16  \n",
       "1  e8b83407  731c3655  \n",
       "\n",
       "[2 rows x 40 columns]"
      ]
     },
     "execution_count": 4,
     "metadata": {},
     "output_type": "execute_result"
    }
   ],
   "source": [
    "raw_data = load_spark_df(size=DATA_SIZE, spark=spark, dbutils=dbutils)\r\n",
    "# データの可視化\r\n",
    "raw_data.limit(2).toPandas().head()"
   ]
  },
  {
   "cell_type": "markdown",
   "metadata": {},
   "source": [
    "### フィーチャーの処理\r\n",
    "提供されるフィーチャー データには、整数とカテゴリ フィーチャー フィールドの両方で多くの欠損値があります。さらに、カテゴリ フィーチャーには多くの異なる値が含まれるため、フィーチャ データを効果的にクリーニングして表現することは、モデルをトレーニングする前に重要な手順です。<br><br>\r\n",
    "値が欠落しているフィーチャーと高いカーディナリティを持つ両方のフィーチャを管理する最も簡単な方法の 1 つは、ハッシュトリックを使用することです。[FeatureHasher](http://spark.apache.org/docs/latest/ml-features.html#featurehasher) トランスフォーマーは整数値を渡し、カテゴリ フィーチャを低次元のスパース ベクトルにハッシュします。<br><br>\r\n",
    "まず、トレーニングとテストのためにデータセットがランダムに分割され、各データセットに機能処理が適用されます。"
   ]
  },
  {
   "cell_type": "code",
   "execution_count": 5,
   "metadata": {},
   "outputs": [],
   "source": [
    "raw_train, raw_test = spark_random_split(raw_data, ratio=0.8, seed=42)"
   ]
  },
  {
   "cell_type": "code",
   "execution_count": 6,
   "metadata": {},
   "outputs": [],
   "source": [
    "columns = [c for c in raw_data.columns if c != 'label']\n",
    "feature_processor = FeatureHasher(inputCols=columns, outputCol='features')"
   ]
  },
  {
   "cell_type": "code",
   "execution_count": 7,
   "metadata": {},
   "outputs": [],
   "source": [
    "train = feature_processor.transform(raw_train)\n",
    "test = feature_processor.transform(raw_test)"
   ]
  },
  {
   "cell_type": "markdown",
   "metadata": {},
   "source": [
    "## モデルトレーニング\r\n",
    "MMLSpark では、`LightGBMClassifier` クラスを使用して、バイナリ分類の LightGBM 実装が呼び出され、目的変数を `\"バイナリ\"` として指定します。この場合、正のラベルの出現率は非常に低いので、`isUnbalance` フラグを true に設定すると、この不均衡を緩和するのに役立ちます。<br><br>\r\n",
    "\r\n",
    "### ハイパーパラメータ\r\n",
    "Spark で LightGBM 分類器をトレーニングするための主要な[ハイパーパラメーター](https://github.com/Microsoft/LightGBM/blob/master/docs/Parameters-Tuning.rst)の一部を次に示します:\r\n",
    "- `numLeaves`: 各ツリーの葉の数\r\n",
    "- `numIterations`: ブーストを適用する反復回数\r\n",
    "- `learningRate`: ツリー間でのトレーニングの学習率\r\n",
    "- `featureFraction`: ツリーのトレーニングに使用されるフィーチャーの割合\r\n",
    "- `earlyStoppingRound`: オーバーフィットを避けるために早期停止を適用できるラウンド"
   ]
  },
  {
   "cell_type": "code",
   "execution_count": 8,
   "metadata": {},
   "outputs": [],
   "source": [
    "lgbm = LightGBMClassifier(\n",
    "    labelCol=\"label\",\n",
    "    featuresCol=\"features\",\n",
    "    objective=\"binary\",\n",
    "    isUnbalance=True,\n",
    "    boostingType=\"gbdt\",\n",
    "    boostFromAverage=True,\n",
    "    baggingSeed=42,\n",
    "    numLeaves=NUM_LEAVES,\n",
    "    numIterations=NUM_ITERATIONS,\n",
    "    learningRate=LEARNING_RATE,\n",
    "    featureFraction=FEATURE_FRACTION,\n",
    "    earlyStoppingRound=EARLY_STOPPING_ROUND\n",
    ")"
   ]
  },
  {
   "cell_type": "markdown",
   "metadata": {},
   "source": [
    "### モデルのトレーニングと評価"
   ]
  },
  {
   "cell_type": "code",
   "execution_count": 9,
   "metadata": {},
   "outputs": [],
   "source": [
    "model = lgbm.fit(train)\n"
   ]
  },
  {
   "cell_type": "code",
   "execution_count": 10,
   "metadata": {},
   "outputs": [],
   "source": [
    "predictions = model.transform(test)"
   ]
  },
  {
   "cell_type": "code",
   "execution_count": 11,
   "metadata": {},
   "outputs": [
    {
     "name": "stdout",
     "output_type": "stream",
     "text": [
      "+---------------+------------------+\n",
      "|evaluation_type|               AUC|\n",
      "+---------------+------------------+\n",
      "| Classification|0.6892773832319504|\n",
      "+---------------+------------------+\n",
      "\n"
     ]
    }
   ],
   "source": [
    "evaluator = (\n",
    "    ComputeModelStatistics()\n",
    "    .setScoredLabelsCol(\"prediction\")\n",
    "    .setLabelCol(\"label\")\n",
    "    .setEvaluationMetric(\"AUC\")\n",
    ")\n",
    "\n",
    "result = evaluator.transform(predictions)\n",
    "auc = result.select(\"AUC\").collect()[0][0]\n",
    "result.show()"
   ]
  },
  {
   "cell_type": "code",
   "execution_count": 10,
   "metadata": {},
   "outputs": [
    {
     "data": {
      "application/papermill.record+json": {
       "auc": 0.6870253907336659
      }
     },
     "metadata": {},
     "output_type": "display_data"
    }
   ],
   "source": [
    "# テストで使用した paermill の結果の記録\r\n",
    "sb.glue(\"auc\", auc)"
   ]
  },
  {
   "cell_type": "markdown",
   "metadata": {},
   "source": [
    "## モデルの提供 \r\n",
    "フィーチャー処理やモデル予測を含む生データを操作するための完全なパイプラインは、別のワークフローで使用するために保存および再ロードできます。"
   ]
  },
  {
   "cell_type": "code",
   "execution_count": null,
   "metadata": {},
   "outputs": [],
   "source": [
    "# モデルの保存\r\n",
    "pipeline = PipelineModel(stages=[feature_processor, model])\r\n",
    "pipeline.write().overwrite().save(MODEL_NAME)"
   ]
  },
  {
   "cell_type": "code",
   "execution_count": null,
   "metadata": {},
   "outputs": [],
   "source": [
    "# Spark インスタンスのクリーンナップ\r\n",
    "if not is_databricks():\r\n",
    "    spark.stop()"
   ]
  },
  {
   "cell_type": "markdown",
   "metadata": {},
   "source": [
    "## 追加のドキュメント\r\n",
    "\\[1\\] Guolin Ke, Qi Meng, Thomas Finley, Taifeng Wang, Wei Chen, Weidong Ma, Qiwei Ye, and Tie-Yan Liu. 2017. LightGBM: A highly efficient gradient boosting decision tree. In Advances in Neural Information Processing Systems. 3146–3154. https://papers.nips.cc/paper/6907-lightgbm-a-highly-efficient-gradient-boosting-decision-tree.pdf <br>\r\n",
    "\\[2\\] MML Spark: https://mmlspark.blob.core.windows.net/website/index.html <br>\r\n"
   ]
  }
 ],
 "metadata": {
  "celltoolbar": "Tags",
  "kernelspec": {
   "display_name": "reco_full",
   "language": "python",
   "name": "conda-env-reco_full-py"
  },
  "language_info": {
   "codemirror_mode": {
    "name": "ipython",
    "version": 3
   },
   "file_extension": ".py",
   "mimetype": "text/x-python",
   "name": "python",
   "nbconvert_exporter": "python",
   "pygments_lexer": "ipython3",
   "version": "3.6.10"
  }
 },
 "nbformat": 4,
 "nbformat_minor": 2
}