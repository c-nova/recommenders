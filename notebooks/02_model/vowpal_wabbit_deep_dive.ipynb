{
  "cells": [
    {
      "metadata": {},
      "cell_type": "markdown",
      "source": "<i>Copyright (c) Microsoft Corporation. All rights reserved.</i>\n\n<i>Licensed under the MIT License.</i>"
    },
    {
      "metadata": {},
      "cell_type": "markdown",
      "source": "# Vowpal Wabbit Deep Dive"
    },
    {
      "metadata": {},
      "cell_type": "markdown",
      "source": "<center>\n<img src=\"https://github.com/VowpalWabbit/vowpal_wabbit/blob/master/logo_assets/vowpal-wabbits-github-logo.png?raw=true\" height=\"30%\" width=\"30%\" alt=\"Vowpal Wabbit\">\n</center>\n\n[Vowpal Wabbit](https://github.com/VowpalWabbit/vowpal_wabbit) は、レコメンデーション用途に関連するいくつかのアルゴリズムを実装する高速オンライン機械学習ライブラリです。\n\nVowpal Wabbit(VW)の主な利点は、トレーニングは通常、確率的勾配降下または類似手法を使用してオンラインで行われ、非常に大きなデータセットにうまくスケーリングできることです。さらに、非常に高速に実行するように最適化されており、非常に大規模なデータセットの分散トレーニング シナリオをサポートできます。\n\nVW は、大きすぎてメモリには収まらないが、単一のノードのディスクであれば格納できるようなデータサイズの問題に最適です。分散トレーニングはノードの追加のセットアップと構成で可能です。VWが適切に扱う問題の種類は、主に機械学習の教師あり分類の領域(線形回帰、ロジスティック回帰、マルチクラス分類、サポートベクターマシン、シンプルニューラルネット)に分類されます。また、行列因子化アプローチと潜在ディリクレット割り当て、およびその他のいくつかのアルゴリズムもサポートしています(詳細については[wiki](https://github.com/VowpalWabbit/vowpal_wabbit/wiki)を参照してください)。\n\n一般的な良い展開例は、ユーザーの広告を掲載するオークションがミリ秒単位で決定されるリアルタイム入札シナリオです。ユーザーとアイテムに関するフィーチャ情報を抽出してモデルに渡し、クリック (またはその他の反応) の可能性を短い時間で予測する必要があります。また、ユーザーとコンテキストのフィーチャーが常に変化している場合 (例えば、ユーザーの利用ブラウザや現地時間)、可能なすべての入力の組み合わせを事前にスコア付けすることは不可能な場合があります。VWは、さまざまなアルゴリズムをオフラインで探索し、大量の履歴データで高精度なモデルをトレーニングし、リアルタイムで迅速な予測を生成できるように、モデルを本番環境に展開するプラットフォームとして価値を提供します。もちろん、これはVWを展開できる唯一の方法ではなく、モデルが絶えず更新されている完全にオンラインな環境で使用したり、アクティブラーニングアプローチを使用したり、事前スコアリングモードで完全にオフラインで作業することも可能です。"
    },
    {
      "metadata": {},
      "cell_type": "markdown",
      "source": "<h3>Recommendations 用の Vowpal Wabbit</h3>\nこのノートブックでは、VW ライブラリを使用して [MovieLens](https://grouplens.org/datasets/movielens/) データセットに関するレコメンデーションを生成する方法を示します。\n\nこのノートブックで VW がどのように使用されるかについて、以下の内容に注目してください。\n\nAzure Data Science Virtual Machine ([DSVM](https://azure.microsoft.com/en-us/services/virtual-machines/data-science-virtual-machines/)) を使用すると VW はプリインストールされており、コマンド ラインから直接使用できます。DSVM を使用していない場合は、vw を自分でインストールする必要があります。\n\nまた、Python 環境内で VW を使用できるようにする Python バインディングや、SciKit-Learn Estimator API に準拠したラッパーもあります。ただし、Python バインディングは Boost と依存関係を持つ追加の Python パッケージとしてインストールする必要があるため、VW の実行を簡潔にするために、モデルのコマンド ライン実行から動作を模倣するサブプロセス呼び出しを介して行われます。\n\nVWは特定の[入力フォーマット](https://github.com/VowpalWabbit/vowpal_wabbit/wiki/Input-format)を期待しており、このノートブックの to_vw() は、標準的な MovieLens データセットを対応するデータ形式に変換する便利な機能です。その後、データファイルはディスクに書き込まれ、トレーニングのためにVWに渡されます。\n\n以下の例は、異なるアプローチのパフォーマンス上の利点を示さない VW の機能的能力を示すものです。[コマンドライン オプション](https://github.com/VowpalWabbit/vowpal_wabbit/wiki/Command-Line-Arguments)を使用して調整できるVWモデルのパフォーマンスに大きな影響を与えるハイパーパラメータ(学習率や正規化用語など)がいくつかあります。アプローチを適切に比較するには、関連するデータセットについて学習し、調整すると便利でしょう。"
    },
    {
      "metadata": {},
      "cell_type": "markdown",
      "source": "# 0. グローバル セットアップ"
    },
    {
      "metadata": {
        "trusted": false
      },
      "cell_type": "code",
      "source": "import sys\nsys.path.append('../..')\n\nimport os\nfrom subprocess import run\nfrom tempfile import TemporaryDirectory\nfrom time import process_time\n\nimport pandas as pd\nimport papermill as pm\n\nfrom reco_utils.common.notebook_utils import is_jupyter\nfrom reco_utils.dataset.movielens import load_pandas_df\nfrom reco_utils.dataset.python_splitters import python_random_split\nfrom reco_utils.evaluation.python_evaluation import (rmse, mae, exp_var, rsquared, get_top_k_items,\n                                                     map_at_k, ndcg_at_k, precision_at_k, recall_at_k)\n\nprint(\"System version: {}\".format(sys.version))\nprint(\"Pandas version: {}\".format(pd.__version__))",
      "execution_count": 1,
      "outputs": [
        {
          "name": "stdout",
          "output_type": "stream",
          "text": "System version: 3.6.8 |Anaconda, Inc.| (default, Dec 30 2018, 01:22:34) \n[GCC 7.3.0]\nPandas version: 0.24.1\n"
        }
      ]
    },
    {
      "metadata": {
        "trusted": false
      },
      "cell_type": "code",
      "source": "def to_vw(df, output, logistic=False):\n    \"\"\"Convert Pandas DataFrame to vw input format\n    Args:\n        df (pd.DataFrame): input DataFrame\n        output (str): path to output file\n        logistic (bool): flag to convert label to logistic value\n    \"\"\"\n    with open(output, 'w') as f:\n        tmp = df.reset_index()\n\n        # vw の書式設定を簡略化するに評価タイプを整数にリセットする必要がある\n        tmp['rating'] = tmp['rating'].astype('int64')\n        \n        # 評価をバイナリ値に変換する\n        if logistic:\n            tmp['rating'] = tmp['rating'].apply(lambda x: 1 if x >= 3 else -1)\n        \n        # 各行を VW 入力形式に変換する (https://github.com/VowpalWabbit/vowpal_wabbit/wiki/Input-format) [ラベル]\n        # [タグ] |[ユーザー名空間][ユーザー ID 機能] |[項目の名前空間][ムービー ID 機能] ラベルは真の評価であり、\n        # タグは予測を真実のユーザーにリンクするために使用される例の一意の ID であり、項目の名前空間は、コマンド ライン\n        # オプションを通じて相互作用機能をサポートする機能を分離します。\n        for _, row in tmp.iterrows():\n            f.write('{rating:d} {index:d}|user {userID:d} |item {itemID:d}\\n'.format_map(row))",
      "execution_count": 2,
      "outputs": []
    },
    {
      "metadata": {
        "trusted": false
      },
      "cell_type": "code",
      "source": "def run_vw(train_params, test_params, test_data, prediction_path, logistic=False):\n    \"\"\"Convenience function to train, test, and show metrics of interest\n    Args:\n        train_params (str): vw training parameters\n        test_params (str): vw testing parameters\n        test_data (pd.dataFrame): test data\n        prediction_path (str): path to vw prediction output\n        logistic (bool): flag to convert label to logistic value\n    Returns:\n        (dict): metrics and timing information\n    \"\"\"\n\n    # モデルのトレーニング\n    train_start = process_time()\n    run(train_params.split(' '), check=True)\n    train_stop = process_time()\n    \n    # モデルのテスト\n    test_start = process_time()\n    run(test_params.split(' '), check=True)\n    test_stop = process_time()\n    \n    # 予測の読み取り\n    pred_df = pd.read_csv(prediction_path, delim_whitespace=True, names=['prediction'], index_col=1).join(test_data)\n    pred_df.drop(\"rating\", axis=1, inplace=True)\n\n    test_df = test_data.copy()\n    if logistic:\n        # メトリックが正しくキャプチャできるように完全なバイナリ ラベルを作成\n        test_df['rating'] = test['rating'].apply(lambda x: 1 if x >= 3 else -1)\n    else:\n        # 結果が正しい範囲の整数であることを確認する\n        pred_df['prediction'] = pred_df['prediction'].apply(lambda x: int(max(1, min(5, round(x)))))\n\n    # メトリクスの計算\n    result = dict()\n    result['RMSE'] = rmse(test_df, pred_df)\n    result['MAE'] = mae(test_df, pred_df)\n    result['R2'] = rsquared(test_df, pred_df)\n    result['Explained Variance'] = exp_var(test_df, pred_df)\n    result['Train Time (ms)'] = (train_stop - train_start) * 1000\n    result['Test Time (ms)'] = (test_stop - test_start) * 1000\n    \n    return result",
      "execution_count": 3,
      "outputs": []
    },
    {
      "metadata": {
        "trusted": false
      },
      "cell_type": "code",
      "source": "# データ ファイルを管理するための一時ディレクトリの作成\ntmpdir = TemporaryDirectory()\n\nmodel_path = os.path.join(tmpdir.name, 'vw.model')\nsaved_model_path = os.path.join(tmpdir.name, 'vw_saved.model')\ntrain_path = os.path.join(tmpdir.name, 'train.dat')\ntest_path = os.path.join(tmpdir.name, 'test.dat')\ntrain_logistic_path = os.path.join(tmpdir.name, 'train_logistic.dat')\ntest_logistic_path = os.path.join(tmpdir.name, 'test_logistic.dat')\nprediction_path = os.path.join(tmpdir.name, 'prediction.dat')\nall_test_path = os.path.join(tmpdir.name, 'new_test.dat')\nall_prediction_path = os.path.join(tmpdir.name, 'new_prediction.dat')",
      "execution_count": 4,
      "outputs": []
    },
    {
      "metadata": {},
      "cell_type": "markdown",
      "source": "# 1. データの読み取りと変形"
    },
    {
      "metadata": {
        "tags": [
          "parameters"
        ],
        "trusted": false
      },
      "cell_type": "code",
      "source": "# MovieLens データサイズの選択: 100k, 1m, 10m, or 20m\nMOVIELENS_DATA_SIZE = '100k'\nTOP_K = 10",
      "execution_count": 5,
      "outputs": []
    },
    {
      "metadata": {
        "trusted": false
      },
      "cell_type": "code",
      "source": "# MovieLens データの読み込み\ndf = load_pandas_df(MOVIELENS_DATA_SIZE)\n\n# トレーニングとテストセット用にデータを分割し、デフォルト値は各ユーザーの評価の75%をトレーニング用として、25%をテスト用として受け取る\ntrain, test = python_random_split(df, 0.75)\n\n# トレーニング、テスト データを vw フォーマットで保存する\nto_vw(df=train, output=train_path)\nto_vw(df=test, output=test_path)\n\n# ロジスティクス回帰用のデータを保存する (ラベルの調整が必要)\nto_vw(df=train, output=train_logistic_path, logistic=True)\nto_vw(df=test, output=test_logistic_path, logistic=True)",
      "execution_count": 6,
      "outputs": [
        {
          "name": "stderr",
          "output_type": "stream",
          "text": "4.93MB [00:00, 6.18MB/s]                            \n"
        }
      ]
    },
    {
      "metadata": {},
      "cell_type": "markdown",
      "source": "# 2. 回帰ベースのレコメンデーション\n機械学習の問題を解決するためのさまざまなアプローチを検討する場合、パフォーマンス、時間、およびリソース (メモリまたは CPU) の使用状況全体において、より複雑なソリューションがどのように実行されるかを理解するためのベースライン アプローチを生成すると役立ちます。\n\n回帰ベースのアプローチは、多くの ML 問題に対して考慮すべき最も簡単で最速のベースラインの一つです。"
    },
    {
      "metadata": {},
      "cell_type": "markdown",
      "source": "## 2.1 線形回帰\nデータは 1 から 5 の数値での評価を提供しており、これらの値を線形回帰モデルに適合させるのは簡単なアプローチです。このモデルは、目的変数としての評価の例と、独立した機能としての対応するユーザー ID とムービー ID に関するトレーニングを受けます。\n\n各ユーザー項目の評価を例として渡すことで、モデルは各ユーザーの平均評価とアイテムごとの平均評価に基づいて重みを学習し始めます。\n\nただし、これは整数でなくなった予測評価を生成できるため、必要に応じて 1 から 5 の整数スケールに戻すには、予測時にいくつかの追加の調整を行う必要があります。ここでは、これを評価関数で行います。"
    },
    {
      "metadata": {
        "scrolled": true,
        "trusted": false
      },
      "cell_type": "code",
      "source": "\"\"\"\n使用されるコマンド ライン パラメータの簡単な説明\n  その他のオプションパラメータは、こちらで確認できます: https://github.com/VowpalWabbit/vowpal_wabbit/wiki/Command-Line-Arguments\n  VW はデフォルトで線形回帰を使用するので、コマンド ライン オプションはありません。\n  -f <model_path>: トレーニング後の最終的なモデル ファイルを保持する場所を示します。\n  -d <data_path>: トレーニングまたはテストに使用するデータ ファイルを示します。\n  --quiet: これは、Quiet モードで vw を実行します (デバッグの場合は、Quiet モードを使用しないことに役立ちます)\n  -i <model_path>: トレーニング中に作成した以前のモデル ファイルを読み込む場所を示します。\n  -t: これは推論のみを実行します (モデルに対して学習の更新を行いません)\n  -p <prediction_path>: 予測出力を格納する場所を示します。\n\"\"\"\ntrain_params = 'vw -f {model} -d {data} --quiet'.format(model=model_path, data=train_path)\n# 後でトップ K 分析で使用するために結果を保存する\ntest_params = 'vw -i {model} -d {data} -t -p {pred} --quiet'.format(model=model_path, data=test_path, pred=prediction_path)\n\nresult = run_vw(train_params=train_params, \n                test_params=test_params, \n                test_data=test, \n                prediction_path=prediction_path)\n\ncomparison = pd.DataFrame(result, index=['Linear Regression'])\ncomparison",
      "execution_count": 7,
      "outputs": [
        {
          "data": {
            "text/html": "<div>\n<style scoped>\n    .dataframe tbody tr th:only-of-type {\n        vertical-align: middle;\n    }\n\n    .dataframe tbody tr th {\n        vertical-align: top;\n    }\n\n    .dataframe thead th {\n        text-align: right;\n    }\n</style>\n<table border=\"1\" class=\"dataframe\">\n  <thead>\n    <tr style=\"text-align: right;\">\n      <th></th>\n      <th>RMSE</th>\n      <th>MAE</th>\n      <th>R2</th>\n      <th>Explained Variance</th>\n      <th>Train Time (ms)</th>\n      <th>Test Time (ms)</th>\n    </tr>\n  </thead>\n  <tbody>\n    <tr>\n      <th>Linear Regression</th>\n      <td>0.988433</td>\n      <td>0.70988</td>\n      <td>0.227276</td>\n      <td>0.227286</td>\n      <td>62.5</td>\n      <td>15.625</td>\n    </tr>\n  </tbody>\n</table>\n</div>",
            "text/plain": "                       RMSE      MAE        R2  Explained Variance  \\\nLinear Regression  0.988433  0.70988  0.227276            0.227286   \n\n                   Train Time (ms)  Test Time (ms)  \nLinear Regression             62.5          15.625  "
          },
          "execution_count": 7,
          "metadata": {},
          "output_type": "execute_result"
        }
      ]
    },
    {
      "metadata": {},
      "cell_type": "markdown",
      "source": "## 2.2 相互作用フィーチャーと線形回帰\n\nこれ以前は、ユーザーのフィーチャーとアイテムの機能を個別に扱いましたが、機能間の相互作用を考慮すると、ユーザーのよりきめ細かい環境設定を学習するメカニズムを提供できます。\n\n相互作用機能を生成するには、二次コマンド ライン引数を使用し、各文字の最初の文字に基づいてユーザーと項目の名前空間を組み合わせて結合するオプション '-q ui' を組み合わせて名前空間を指定します。\n\n現在使用される userID および itemID は、フィーチャ ID が直接使用される整数であり、例えばユーザ ID 123 評価ムービー 456 の場合、トレーニング例はフィーチャ 123 および 456 の値に 1 を入れる。ただし、インタラクションが指定されている場合 (またはフィーチャが文字列の場合)、結果として得られるインタラクションフィーチャは使用可能なフィーチャ空間にハッシュされます。フィーチャ ハッシュは、非常に疎な高次元フィーチャ空間を取り込み、より低い次元空間に減らす方法です。これにより、フィーチャとモデルの重み付けの高速計算を維持しながら、メモリを削減できます。\n\n機能ハッシュの注意点は、ハッシュ衝突が発生し、別々のフィーチャが同じ場所にマップされる可能性があることです。この場合、高いカーディナリティのフィーチャ間の相互作用をサポートするためにスペースのサイズを大きくすると有益です。使用可能なフィーチャスペースは --bit_precision (-b) 引数で指定されます。モデル内のすべてのフィーチャーの使用可能な合計スペースは 2<sup>N</sup> です。\n\n詳細については、[フィーチャー ハッシュと抽出](https://github.com/VowpalWabbit/vowpal_wabbit/wiki/Feature-Hashing-and-Extraction)を参照してください。"
    },
    {
      "metadata": {
        "trusted": false
      },
      "cell_type": "code",
      "source": "\"\"\"\n使用されるコマンド ライン パラメータの簡単な説明\n  -b <N>: メモリ サイズを 2<sup>N</sup> エントリに設定します。\n  -q <ab>: 'a' と 'b' で始まる名前空間のフィーチャ間の二次フィーチャの相互作用を作成する\n\"\"\"\ntrain_params = 'vw -b 26 -q ui -f {model} -d {data} --quiet'.format(model=saved_model_path, data=train_path)\ntest_params = 'vw -i {model} -d {data} -t -p {pred} --quiet'.format(model=saved_model_path, data=test_path, pred=prediction_path)\n\nresult = run_vw(train_params=train_params,\n                test_params=test_params,\n                test_data=test,\n                prediction_path=prediction_path)\nsaved_result = result\n\ncomparison = comparison.append(pd.DataFrame(result, index=['Linear Regression w/ Interaction']))\ncomparison",
      "execution_count": 8,
      "outputs": [
        {
          "data": {
            "text/html": "<div>\n<style scoped>\n    .dataframe tbody tr th:only-of-type {\n        vertical-align: middle;\n    }\n\n    .dataframe tbody tr th {\n        vertical-align: top;\n    }\n\n    .dataframe thead th {\n        text-align: right;\n    }\n</style>\n<table border=\"1\" class=\"dataframe\">\n  <thead>\n    <tr style=\"text-align: right;\">\n      <th></th>\n      <th>RMSE</th>\n      <th>MAE</th>\n      <th>R2</th>\n      <th>Explained Variance</th>\n      <th>Train Time (ms)</th>\n      <th>Test Time (ms)</th>\n    </tr>\n  </thead>\n  <tbody>\n    <tr>\n      <th>Linear Regression</th>\n      <td>0.988433</td>\n      <td>0.70988</td>\n      <td>0.227276</td>\n      <td>0.227286</td>\n      <td>62.500</td>\n      <td>15.625</td>\n    </tr>\n    <tr>\n      <th>Linear Regression w/ Interaction</th>\n      <td>0.985921</td>\n      <td>0.71292</td>\n      <td>0.231199</td>\n      <td>0.231338</td>\n      <td>15.625</td>\n      <td>31.250</td>\n    </tr>\n  </tbody>\n</table>\n</div>",
            "text/plain": "                                      RMSE      MAE        R2  \\\nLinear Regression                 0.988433  0.70988  0.227276   \nLinear Regression w/ Interaction  0.985921  0.71292  0.231199   \n\n                                  Explained Variance  Train Time (ms)  \\\nLinear Regression                           0.227286           62.500   \nLinear Regression w/ Interaction            0.231338           15.625   \n\n                                  Test Time (ms)  \nLinear Regression                         15.625  \nLinear Regression w/ Interaction          31.250  "
          },
          "execution_count": 8,
          "metadata": {},
          "output_type": "execute_result"
        }
      ]
    },
    {
      "metadata": {},
      "cell_type": "markdown",
      "source": "## 2.3 多項式ロジスティック回帰\n\n線形回帰の代わりに、各評価値を個別のクラスとして扱う多項ロジスティック回帰または多クラス分類を活用します。\n\nこれにより、整数以外の結果は回避されますが、異なる評価レベルのカウントが歪んでいるとパフォーマンスが低下する可能性がある各クラスのトレーニング データも減少します。\n\n基本的なマルチクラスロジスティック回帰は、N がクラスの数であり、使用する損失関数のロジスティック オプションを証明する '--oaa N' オプションで指定された 1対全 アプローチを使用して実行できます。"
    },
    {
      "metadata": {
        "trusted": false
      },
      "cell_type": "code",
      "source": "\"\"\"\n使用されるコマンド ライン パラメータの簡単な説明\n  --損失関数ロジスティクス: ロジスティック回帰のモデル損失関数を設定します。\n  --oaa <N>: 1対全 アプローチを使用して N の別々のモデルを列車 (すべてのモデルは単一のモデル ファイルにキャプチャされます)\n             これにより、ラベルが 1 から始まる連続した整数であることが想定されます。\n  --リンク ロジスティクス:予測出力をロジットから確率に変換します。\n予測される出力は、最も可能性の高いモデル(ラベル)です。\n\"\"\"\ntrain_params = 'vw --loss_function logistic --oaa 5 -f {model} -d {data} --quiet'.format(model=model_path, data=train_path)\ntest_params = 'vw --link logistic -i {model} -d {data} -t -p {pred} --quiet'.format(model=model_path, data=test_path, pred=prediction_path)\n\nresult = run_vw(train_params=train_params,\n                test_params=test_params,\n                test_data=test,\n                prediction_path=prediction_path)\n\ncomparison = comparison.append(pd.DataFrame(result, index=['Multinomial Regression']))\ncomparison",
      "execution_count": 9,
      "outputs": [
        {
          "data": {
            "text/html": "<div>\n<style scoped>\n    .dataframe tbody tr th:only-of-type {\n        vertical-align: middle;\n    }\n\n    .dataframe tbody tr th {\n        vertical-align: top;\n    }\n\n    .dataframe thead th {\n        text-align: right;\n    }\n</style>\n<table border=\"1\" class=\"dataframe\">\n  <thead>\n    <tr style=\"text-align: right;\">\n      <th></th>\n      <th>RMSE</th>\n      <th>MAE</th>\n      <th>R2</th>\n      <th>Explained Variance</th>\n      <th>Train Time (ms)</th>\n      <th>Test Time (ms)</th>\n    </tr>\n  </thead>\n  <tbody>\n    <tr>\n      <th>Linear Regression</th>\n      <td>0.988433</td>\n      <td>0.70988</td>\n      <td>0.227276</td>\n      <td>0.227286</td>\n      <td>62.500</td>\n      <td>15.625</td>\n    </tr>\n    <tr>\n      <th>Linear Regression w/ Interaction</th>\n      <td>0.985921</td>\n      <td>0.71292</td>\n      <td>0.231199</td>\n      <td>0.231338</td>\n      <td>15.625</td>\n      <td>31.250</td>\n    </tr>\n    <tr>\n      <th>Multinomial Regression</th>\n      <td>1.112780</td>\n      <td>0.75564</td>\n      <td>0.020626</td>\n      <td>0.050111</td>\n      <td>62.500</td>\n      <td>31.250</td>\n    </tr>\n  </tbody>\n</table>\n</div>",
            "text/plain": "                                      RMSE      MAE        R2  \\\nLinear Regression                 0.988433  0.70988  0.227276   \nLinear Regression w/ Interaction  0.985921  0.71292  0.231199   \nMultinomial Regression            1.112780  0.75564  0.020626   \n\n                                  Explained Variance  Train Time (ms)  \\\nLinear Regression                           0.227286           62.500   \nLinear Regression w/ Interaction            0.231338           15.625   \nMultinomial Regression                      0.050111           62.500   \n\n                                  Test Time (ms)  \nLinear Regression                         15.625  \nLinear Regression w/ Interaction          31.250  \nMultinomial Regression                    31.250  "
          },
          "execution_count": 9,
          "metadata": {},
          "output_type": "execute_result"
        }
      ]
    },
    {
      "metadata": {},
      "cell_type": "markdown",
      "source": "## 2.4 ロジスティック回帰\n\nさらに、ユーザーがアイテムを好きか嫌いかに興味を持つ場合、(1,3] は悪い評価(否定的な結果)で、(3,5] は良い評価(肯定的な結果)などと、入力データをバイナリの結果として表すように調整することができます。\n\nこのフレーミングを使用すると、単純なロジスティック回帰モデルを適用できます。ロジスティック回帰を実行するには、loss_function パラメータが'ロジスティック' に変更され、ターゲットラベルが [0, 1] に切り替わります。また、予測中に '--link logistic' を設定して、ロジット出力を確率値に戻してください。"
    },
    {
      "metadata": {
        "scrolled": true,
        "trusted": false
      },
      "cell_type": "code",
      "source": "train_params = 'vw --loss_function logistic -f {model} -d {data} --quiet'.format(model=model_path, data=train_logistic_path)\ntest_params = 'vw --link logistic -i {model} -d {data} -t -p {pred} --quiet'.format(model=model_path, data=test_logistic_path, pred=prediction_path)\n\nresult = run_vw(train_params=train_params,\n                test_params=test_params,\n                test_data=test,\n                prediction_path=prediction_path,\n                logistic=True)\n\ncomparison = comparison.append(pd.DataFrame(result, index=['Logistic Regression']))\ncomparison",
      "execution_count": 10,
      "outputs": [
        {
          "data": {
            "text/html": "<div>\n<style scoped>\n    .dataframe tbody tr th:only-of-type {\n        vertical-align: middle;\n    }\n\n    .dataframe tbody tr th {\n        vertical-align: top;\n    }\n\n    .dataframe thead th {\n        text-align: right;\n    }\n</style>\n<table border=\"1\" class=\"dataframe\">\n  <thead>\n    <tr style=\"text-align: right;\">\n      <th></th>\n      <th>RMSE</th>\n      <th>MAE</th>\n      <th>R2</th>\n      <th>Explained Variance</th>\n      <th>Train Time (ms)</th>\n      <th>Test Time (ms)</th>\n    </tr>\n  </thead>\n  <tbody>\n    <tr>\n      <th>Linear Regression</th>\n      <td>0.988433</td>\n      <td>0.709880</td>\n      <td>0.227276</td>\n      <td>0.227286</td>\n      <td>62.500</td>\n      <td>15.625</td>\n    </tr>\n    <tr>\n      <th>Linear Regression w/ Interaction</th>\n      <td>0.985921</td>\n      <td>0.712920</td>\n      <td>0.231199</td>\n      <td>0.231338</td>\n      <td>15.625</td>\n      <td>31.250</td>\n    </tr>\n    <tr>\n      <th>Multinomial Regression</th>\n      <td>1.112780</td>\n      <td>0.755640</td>\n      <td>0.020626</td>\n      <td>0.050111</td>\n      <td>62.500</td>\n      <td>31.250</td>\n    </tr>\n    <tr>\n      <th>Logistic Regression</th>\n      <td>0.717475</td>\n      <td>0.409551</td>\n      <td>0.096362</td>\n      <td>0.142500</td>\n      <td>46.875</td>\n      <td>31.250</td>\n    </tr>\n  </tbody>\n</table>\n</div>",
            "text/plain": "                                      RMSE       MAE        R2  \\\nLinear Regression                 0.988433  0.709880  0.227276   \nLinear Regression w/ Interaction  0.985921  0.712920  0.231199   \nMultinomial Regression            1.112780  0.755640  0.020626   \nLogistic Regression               0.717475  0.409551  0.096362   \n\n                                  Explained Variance  Train Time (ms)  \\\nLinear Regression                           0.227286           62.500   \nLinear Regression w/ Interaction            0.231338           15.625   \nMultinomial Regression                      0.050111           62.500   \nLogistic Regression                         0.142500           46.875   \n\n                                  Test Time (ms)  \nLinear Regression                         15.625  \nLinear Regression w/ Interaction          31.250  \nMultinomial Regression                    31.250  \nLogistic Regression                       31.250  "
          },
          "execution_count": 10,
          "metadata": {},
          "output_type": "execute_result"
        }
      ]
    },
    {
      "metadata": {},
      "cell_type": "markdown",
      "source": "# 3. 行列因子化に基づくレコメンデーション\n\n上記のアプローチはすべて回帰モデルをトレーニングしますが、VW は 2 つの異なるアプローチで行列因子化もサポートしています。\n\n行列因子化は、回帰モデルをトレーニングする際に特定のユーザー、アイテム、および相互作用に対して直接的な重みを学習するのではなく、ユーザーがアイテムを評価する方法を決定する潜在因子を学習しようとします。これがどのように機能するかの例としては、ジャンル別にユーザー設定と項目分類を表すことができる場合があります。ジャンルのセットが小さい場合は、各項目が各ジャンルクラスにどれだけ属しているかを関連付け、各ジャンルのユーザーの好みに合った重みを設定できます。重みの両方のセットは、内部製品がユーザー項目の評価になるベクトルとして表すことができる。行列因子化アプローチでは、ユーザーの潜在フィーチャと項目の低ランク行列を学習し、これらの行列を組み合わせて元のユーザー項目行列を近似できるようにします。\n\n## 3.1. 単数形値分解を基にした行列因子化\n\n最初のアプローチでは、特異値分解(SVD)に基づいて行列因子化を実行し、ユーザ項目評価行列の低ランク近似を学習します。これは '--rank' コマンドライン引数を使用して呼び出されます。\n\n詳細については、[行列因子化の例](https://github.com/VowpalWabbit/vowpal_wabbit/wiki/Matrix-factorization-example)を参照してください。"
    },
    {
      "metadata": {
        "trusted": false
      },
      "cell_type": "code",
      "source": "\"\"\"\n使用されるコマンド ライン パラメータの簡単な説明\n  --ランク <N>: 減少行列内の潜在因子の数を設定します。\n\"\"\"\ntrain_params = 'vw --rank 5 -q ui -f {model} -d {data} --quiet'.format(model=model_path, data=train_path)\ntest_params = 'vw -i {model} -d {data} -t -p {pred} --quiet'.format(model=model_path, data=test_path, pred=prediction_path)\n\nresult = run_vw(train_params=train_params,\n                test_params=test_params,\n                test_data=test,\n                prediction_path=prediction_path)\n\ncomparison = comparison.append(pd.DataFrame(result, index=['Matrix Factorization (Rank)']))\ncomparison",
      "execution_count": 11,
      "outputs": [
        {
          "data": {
            "text/html": "<div>\n<style scoped>\n    .dataframe tbody tr th:only-of-type {\n        vertical-align: middle;\n    }\n\n    .dataframe tbody tr th {\n        vertical-align: top;\n    }\n\n    .dataframe thead th {\n        text-align: right;\n    }\n</style>\n<table border=\"1\" class=\"dataframe\">\n  <thead>\n    <tr style=\"text-align: right;\">\n      <th></th>\n      <th>RMSE</th>\n      <th>MAE</th>\n      <th>R2</th>\n      <th>Explained Variance</th>\n      <th>Train Time (ms)</th>\n      <th>Test Time (ms)</th>\n    </tr>\n  </thead>\n  <tbody>\n    <tr>\n      <th>Linear Regression</th>\n      <td>0.988433</td>\n      <td>0.709880</td>\n      <td>0.227276</td>\n      <td>0.227286</td>\n      <td>62.500</td>\n      <td>15.625</td>\n    </tr>\n    <tr>\n      <th>Linear Regression w/ Interaction</th>\n      <td>0.985921</td>\n      <td>0.712920</td>\n      <td>0.231199</td>\n      <td>0.231338</td>\n      <td>15.625</td>\n      <td>31.250</td>\n    </tr>\n    <tr>\n      <th>Multinomial Regression</th>\n      <td>1.112780</td>\n      <td>0.755640</td>\n      <td>0.020626</td>\n      <td>0.050111</td>\n      <td>62.500</td>\n      <td>31.250</td>\n    </tr>\n    <tr>\n      <th>Logistic Regression</th>\n      <td>0.717475</td>\n      <td>0.409551</td>\n      <td>0.096362</td>\n      <td>0.142500</td>\n      <td>46.875</td>\n      <td>31.250</td>\n    </tr>\n    <tr>\n      <th>Matrix Factorization (Rank)</th>\n      <td>1.010723</td>\n      <td>0.745800</td>\n      <td>0.192033</td>\n      <td>0.221080</td>\n      <td>31.250</td>\n      <td>15.625</td>\n    </tr>\n  </tbody>\n</table>\n</div>",
            "text/plain": "                                      RMSE       MAE        R2  \\\nLinear Regression                 0.988433  0.709880  0.227276   \nLinear Regression w/ Interaction  0.985921  0.712920  0.231199   \nMultinomial Regression            1.112780  0.755640  0.020626   \nLogistic Regression               0.717475  0.409551  0.096362   \nMatrix Factorization (Rank)       1.010723  0.745800  0.192033   \n\n                                  Explained Variance  Train Time (ms)  \\\nLinear Regression                           0.227286           62.500   \nLinear Regression w/ Interaction            0.231338           15.625   \nMultinomial Regression                      0.050111           62.500   \nLogistic Regression                         0.142500           46.875   \nMatrix Factorization (Rank)                 0.221080           31.250   \n\n                                  Test Time (ms)  \nLinear Regression                         15.625  \nLinear Regression w/ Interaction          31.250  \nMultinomial Regression                    31.250  \nLogistic Regression                       31.250  \nMatrix Factorization (Rank)               15.625  "
          },
          "execution_count": 11,
          "metadata": {},
          "output_type": "execute_result"
        }
      ]
    },
    {
      "metadata": {},
      "cell_type": "markdown",
      "source": "## 3.2. ファクタリングマシンベースの行列因子化\n\n [Rendel のファクタリング マシン](https://cseweb.ucsd.edu/classes/fa17/cse291-b/reading/Rendle2010FM.pdf)に基づく別のアプローチは、'--lrq' (低ランク二次) を使用して呼び出されます。このデモの LRQ の詳細について詳しくは、こちらをご覧ください。\n\nこれにより、ユーザー項目評価行列の近似値を生成するために乗算される 2 つの下位ランク行列が学習されます。この方法で行列を圧縮すると、非常に疎な相互作用機能を持つ回帰モデルを使用する場合の制限の一部を回避する汎用的な要因を学習できます。これにより、コンバージェンスが向上し、ディスク上のモデルが小さくなる可能性があります。\n\nパフォーマンスを向上させる追加用語は --lrqdropout で、トレーニング中に列を削除します。ただし、これは最適なランク サイズを大きくする傾向があります。L2 正則化などの他のパラメーターは、オーバーフィットを回避するのに役立ちます。"
    },
    {
      "metadata": {
        "trusted": false
      },
      "cell_type": "code",
      "source": "\"\"\"\n使用されるコマンド ライン パラメータの簡単な説明\n  --lrq <abN>: 'a' と 'b' で始まる名前空間との間の二次相互作用に対するランク N の近似値を学習します。\n  --lrqdroupout: 一般化を改善するためにトレーニング中にドロップアウトを実行します。\n\"\"\"\ntrain_params = 'vw --lrq ui7 -f {model} -d {data} --quiet'.format(model=model_path, data=train_path)\ntest_params = 'vw -i {model} -d {data} -t -p {pred} --quiet'.format(model=model_path, data=test_path, pred=prediction_path)\n\nresult = run_vw(train_params=train_params,\n                test_params=test_params,\n                test_data=test,\n                prediction_path=prediction_path)\n\ncomparison = comparison.append(pd.DataFrame(result, index=['Matrix Factorization (LRQ)']))\ncomparison",
      "execution_count": 12,
      "outputs": [
        {
          "data": {
            "text/html": "<div>\n<style scoped>\n    .dataframe tbody tr th:only-of-type {\n        vertical-align: middle;\n    }\n\n    .dataframe tbody tr th {\n        vertical-align: top;\n    }\n\n    .dataframe thead th {\n        text-align: right;\n    }\n</style>\n<table border=\"1\" class=\"dataframe\">\n  <thead>\n    <tr style=\"text-align: right;\">\n      <th></th>\n      <th>RMSE</th>\n      <th>MAE</th>\n      <th>R2</th>\n      <th>Explained Variance</th>\n      <th>Train Time (ms)</th>\n      <th>Test Time (ms)</th>\n    </tr>\n  </thead>\n  <tbody>\n    <tr>\n      <th>Linear Regression</th>\n      <td>0.988433</td>\n      <td>0.709880</td>\n      <td>0.227276</td>\n      <td>0.227286</td>\n      <td>62.500</td>\n      <td>15.625</td>\n    </tr>\n    <tr>\n      <th>Linear Regression w/ Interaction</th>\n      <td>0.985921</td>\n      <td>0.712920</td>\n      <td>0.231199</td>\n      <td>0.231338</td>\n      <td>15.625</td>\n      <td>31.250</td>\n    </tr>\n    <tr>\n      <th>Multinomial Regression</th>\n      <td>1.112780</td>\n      <td>0.755640</td>\n      <td>0.020626</td>\n      <td>0.050111</td>\n      <td>62.500</td>\n      <td>31.250</td>\n    </tr>\n    <tr>\n      <th>Logistic Regression</th>\n      <td>0.717475</td>\n      <td>0.409551</td>\n      <td>0.096362</td>\n      <td>0.142500</td>\n      <td>46.875</td>\n      <td>31.250</td>\n    </tr>\n    <tr>\n      <th>Matrix Factorization (Rank)</th>\n      <td>1.010723</td>\n      <td>0.745800</td>\n      <td>0.192033</td>\n      <td>0.221080</td>\n      <td>31.250</td>\n      <td>15.625</td>\n    </tr>\n    <tr>\n      <th>Matrix Factorization (LRQ)</th>\n      <td>1.013627</td>\n      <td>0.726640</td>\n      <td>0.187383</td>\n      <td>0.187388</td>\n      <td>31.250</td>\n      <td>31.250</td>\n    </tr>\n  </tbody>\n</table>\n</div>",
            "text/plain": "                                      RMSE       MAE        R2  \\\nLinear Regression                 0.988433  0.709880  0.227276   \nLinear Regression w/ Interaction  0.985921  0.712920  0.231199   \nMultinomial Regression            1.112780  0.755640  0.020626   \nLogistic Regression               0.717475  0.409551  0.096362   \nMatrix Factorization (Rank)       1.010723  0.745800  0.192033   \nMatrix Factorization (LRQ)        1.013627  0.726640  0.187383   \n\n                                  Explained Variance  Train Time (ms)  \\\nLinear Regression                           0.227286           62.500   \nLinear Regression w/ Interaction            0.231338           15.625   \nMultinomial Regression                      0.050111           62.500   \nLogistic Regression                         0.142500           46.875   \nMatrix Factorization (Rank)                 0.221080           31.250   \nMatrix Factorization (LRQ)                  0.187388           31.250   \n\n                                  Test Time (ms)  \nLinear Regression                         15.625  \nLinear Regression w/ Interaction          31.250  \nMultinomial Regression                    31.250  \nLogistic Regression                       31.250  \nMatrix Factorization (Rank)               15.625  \nMatrix Factorization (LRQ)                31.250  "
          },
          "execution_count": 12,
          "metadata": {},
          "output_type": "execute_result"
        }
      ]
    },
    {
      "metadata": {},
      "cell_type": "markdown",
      "source": "# 4. 結論\n\n上の表は、推奨予測に使用できる VW ライブラリのアプローチの一部を示しています。相対的なパフォーマンスは、異なるデータセットに適用され、適切に調整されると変わりますが、すべてのアプローチがトレーニングできる速度 (75,000 例) とテスト (25,000 例) に注目すると便利です。"
    },
    {
      "metadata": {},
      "cell_type": "markdown",
      "source": "# 5. スコアリング"
    },
    {
      "metadata": {},
      "cell_type": "markdown",
      "source": "上記のいずれかのアプローチでモデルをトレーニングした後、モデルを使用して、オフライン バッチ モードまたはリアルタイム スコアリング モードで潜在的なユーザー ペアをスコア付けできます。次の例は、reco_utils ディレクトリのユーティリティを活用して、オフラインスコア付け出力から Top-K のレコメンデーションを生成する方法を示しています。"
    },
    {
      "metadata": {
        "trusted": false
      },
      "cell_type": "code",
      "source": "# 最初に、各ユーザーのすべての項目 (トレーニング中に見られるものを除く) のテスト セットを構築します\n\nusers = df[['userID']].drop_duplicates()\nusers['key'] = 1\n\nitems = df[['itemID']].drop_duplicates()\nitems['key'] = 1\n\nall_pairs = pd.merge(users, items, on='key').drop(columns=['key'])\n\n# トレーニングデータと組み合わせて、トレーニングでメモされたエントリのみを保持する\nmerged = pd.merge(train[['userID', 'itemID', 'rating']], all_pairs, on=[\"userID\", \"itemID\"], how=\"outer\")\nall_user_items = merged[merged['rating'].isnull()].fillna(0).astype('int64')\n\n# vw形式で保存(これはしばらく時間がかかる場合があります)\nto_vw(df=all_user_items, output=all_test_path)",
      "execution_count": 13,
      "outputs": []
    },
    {
      "metadata": {
        "trusted": false
      },
      "cell_type": "code",
      "source": "# 新しいデータセットで保存されたモデル (相互作用を伴う線形回帰) を実行する\ntest_start = process_time()\ntest_params = 'vw -i {model} -d {data} -t -p {pred} --quiet'.format(model=saved_model_path, data=all_test_path, pred=prediction_path)\nrun(test_params.split(' '), check=True)\ntest_stop = process_time()\ntest_time = test_stop - test_start\n\n# 予測を読み込み、以前に保存した結果からトップkを取得\npred_data = pd.read_csv(prediction_path, delim_whitespace=True, names=['prediction'], index_col=1).join(all_user_items)\ntop_k = get_top_k_items(pred_data, col_rating='prediction', k=TOP_K)[['prediction', 'userID', 'itemID']]\ntop_k.head()",
      "execution_count": 14,
      "outputs": [
        {
          "data": {
            "text/html": "<div>\n<style scoped>\n    .dataframe tbody tr th:only-of-type {\n        vertical-align: middle;\n    }\n\n    .dataframe tbody tr th {\n        vertical-align: top;\n    }\n\n    .dataframe thead th {\n        text-align: right;\n    }\n</style>\n<table border=\"1\" class=\"dataframe\">\n  <thead>\n    <tr style=\"text-align: right;\">\n      <th></th>\n      <th>prediction</th>\n      <th>userID</th>\n      <th>itemID</th>\n    </tr>\n  </thead>\n  <tbody>\n    <tr>\n      <th>0</th>\n      <td>4.565871</td>\n      <td>1</td>\n      <td>318</td>\n    </tr>\n    <tr>\n      <th>1</th>\n      <td>4.533308</td>\n      <td>1</td>\n      <td>64</td>\n    </tr>\n    <tr>\n      <th>2</th>\n      <td>4.530738</td>\n      <td>1</td>\n      <td>408</td>\n    </tr>\n    <tr>\n      <th>3</th>\n      <td>4.525889</td>\n      <td>1</td>\n      <td>603</td>\n    </tr>\n    <tr>\n      <th>4</th>\n      <td>4.501398</td>\n      <td>1</td>\n      <td>483</td>\n    </tr>\n  </tbody>\n</table>\n</div>",
            "text/plain": "   prediction  userID  itemID\n0    4.565871       1     318\n1    4.533308       1      64\n2    4.530738       1     408\n3    4.525889       1     603\n4    4.501398       1     483"
          },
          "execution_count": 14,
          "metadata": {},
          "output_type": "execute_result"
        }
      ]
    },
    {
      "metadata": {
        "trusted": false
      },
      "cell_type": "code",
      "source": "# ランキング メトリックを取得する\nargs = [test, top_k]\nkwargs = dict(col_user='userID', col_item='itemID', col_rating='rating', col_prediction='prediction',\n              relevancy_method='top_k', k=TOP_K)\n\nrank_metrics = {'MAP': map_at_k(*args, **kwargs), \n                'NDCG': ndcg_at_k(*args, **kwargs),\n                'Precision': precision_at_k(*args, **kwargs),\n                'Recall': recall_at_k(*args, **kwargs)}",
      "execution_count": 15,
      "outputs": []
    },
    {
      "metadata": {
        "scrolled": true,
        "trusted": false
      },
      "cell_type": "code",
      "source": "# 最終結果\nall_results = ['{k}: {v}'.format(k=k, v=v) for k, v in saved_result.items()]\nall_results += ['{k}: {v}'.format(k=k, v=v) for k, v in rank_metrics.items()]\nprint('\\n'.join(all_results))",
      "execution_count": 16,
      "outputs": [
        {
          "name": "stdout",
          "output_type": "stream",
          "text": "RMSE: 0.9859208893212478\nMAE: 0.71292\nR2: 0.23119931215379363\nExplained Variance: 0.2313379575958101\nTrain Time (ms): 15.625\nTest Time (ms): 31.25\nMAP: 0.012535184652143394\nNDCG: 0.0965940631559385\nPrecision: 0.0977707006369427\nRecall: 0.03761253544606115\n"
        }
      ]
    },
    {
      "metadata": {},
      "cell_type": "markdown",
      "source": "# 6. クリーンアップ"
    },
    {
      "metadata": {
        "trusted": false
      },
      "cell_type": "code",
      "source": "# テストの結果を記録\nif is_jupyter():\n    pm.record('rmse', saved_result['RMSE'])\n    pm.record('mae', saved_result['MAE'])\n    pm.record('rsquared', saved_result['R2'])\n    pm.record('exp_var', saved_result['Explained Variance'])\n    pm.record(\"train_time\", saved_result['Train Time (ms)'])\n    pm.record(\"test_time\", test_time)\n    pm.record('map', rank_metrics['MAP'])\n    pm.record('ndcg', rank_metrics['NDCG'])\n    pm.record('precision', rank_metrics['Precision'])\n    pm.record('recall', rank_metrics['Recall'])",
      "execution_count": 17,
      "outputs": [
        {
          "data": {
            "application/papermill.record+json": {
              "rmse": 0.98592088932124777
            }
          },
          "metadata": {},
          "output_type": "display_data"
        },
        {
          "data": {
            "application/papermill.record+json": {
              "mae": 0.71292
            }
          },
          "metadata": {},
          "output_type": "display_data"
        },
        {
          "data": {
            "application/papermill.record+json": {
              "rsquared": 0.23119931215379363
            }
          },
          "metadata": {},
          "output_type": "display_data"
        },
        {
          "data": {
            "application/papermill.record+json": {
              "exp_var": 0.23133795759581011
            }
          },
          "metadata": {},
          "output_type": "display_data"
        },
        {
          "data": {
            "application/papermill.record+json": {
              "train_time": 15.625
            }
          },
          "metadata": {},
          "output_type": "display_data"
        },
        {
          "data": {
            "application/papermill.record+json": {
              "test_time": 0.046875
            }
          },
          "metadata": {},
          "output_type": "display_data"
        },
        {
          "data": {
            "application/papermill.record+json": {
              "map": 0.012535184652143394
            }
          },
          "metadata": {},
          "output_type": "display_data"
        },
        {
          "data": {
            "application/papermill.record+json": {
              "ndcg": 0.0965940631559385
            }
          },
          "metadata": {},
          "output_type": "display_data"
        },
        {
          "data": {
            "application/papermill.record+json": {
              "precision": 0.0977707006369427
            }
          },
          "metadata": {},
          "output_type": "display_data"
        },
        {
          "data": {
            "application/papermill.record+json": {
              "recall": 0.037612535446061149
            }
          },
          "metadata": {},
          "output_type": "display_data"
        }
      ]
    },
    {
      "metadata": {
        "trusted": false
      },
      "cell_type": "code",
      "source": "tmpdir.cleanup()",
      "execution_count": 18,
      "outputs": []
    },
    {
      "metadata": {},
      "cell_type": "markdown",
      "source": "## 参考文献\n\n1. John Langford, et. al. Vowpal Wabbit Wiki. URL: https://github.com/VowpalWabbit/vowpal_wabbit/wiki\n2. Steffen Rendel. Factorization Machines. 2010 IEEE International Conference on Data Mining.\n3. Jake Hoffman. Matrix Factorization Example. URL: https://github.com/VowpalWabbit/vowpal_wabbit/wiki/Matrix-factorization-example\n4. Paul Minero. Low Rank Quadratic Example. URL: https://github.com/VowpalWabbit/vowpal_wabbit/tree/master/demo/movielens"
    }
  ],
  "metadata": {
    "celltoolbar": "Tags",
    "kernelspec": {
      "name": "python3",
      "display_name": "Python 3",
      "language": "python"
    },
    "language_info": {
      "mimetype": "text/x-python",
      "nbconvert_exporter": "python",
      "name": "python",
      "file_extension": ".py",
      "version": "3.5.4",
      "pygments_lexer": "ipython3",
      "codemirror_mode": {
        "version": 3,
        "name": "ipython"
      }
    }
  },
  "nbformat": 4,
  "nbformat_minor": 2
}